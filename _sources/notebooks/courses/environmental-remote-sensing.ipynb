{
 "cells": [
  {
   "cell_type": "markdown",
   "id": "0",
   "metadata": {},
   "source": [
    "# Environmental Remote Sensing\n",
    "\n",
    "\n",
    "These course materials where developed in the framework of the DrySat project: *Enhancing Drought Early Warning in Mozambique through Satellite Soil Moisture Data to support food security in the context of climate change*.\n",
    "\n",
    "## Prerequisites\n",
    "\n",
    "| Concepts | Importance | Notes |\n",
    "|---|---|---|\n",
    "| [Intro to Earth Observation Data Science](https://projectpythia.org/eo-datascience-cookbook/README.html) | Helpful | |\n",
    "| [Documentation hvPlot](https://hvplot.holoviz.org/)|Helpful|Interactive plotting|\n",
    "| [Documentation pandas](https://pandas.pydata.org/)|Helpful|Tabular data wrangling|\n",
    "\n",
    "- **Time to learn**: 90 min\n",
    "\n",
    ":::{note}\n",
    "These notebooks contain interactive elements. The full interactive elements can \n",
    "only be viewed on Binder by clicking on the Binder badge or 🚀 button.\n",
    ":::\n"
   ]
  }
 ],
 "metadata": {
  "kernelspec": {
   "display_name": "Python 3 (ipykernel)",
   "language": "python",
   "name": "python3",
   "path": "/opt/hostedtoolcache/Python/3.11.12/x64/share/jupyter/kernels/python3"
  },
  "language_info": {
   "codemirror_mode": {
    "name": "ipython",
    "version": 3
   },
   "file_extension": ".py",
   "mimetype": "text/x-python",
   "name": "python",
   "nbconvert_exporter": "python",
   "pygments_lexer": "ipython3",
   "version": "3.11.12"
  }
 },
 "nbformat": 4,
 "nbformat_minor": 5
}

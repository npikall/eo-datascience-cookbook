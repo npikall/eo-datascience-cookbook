{
 "cells": [
  {
   "cell_type": "markdown",
   "id": "0",
   "metadata": {},
   "source": [
    "# Microwave Remote Sensing\n",
    "\n",
    "\n",
    "This course at the TU Wien teaches students to read, visualize and analyze \n",
    "Synthetic Aperture Radar (SAR) data. This will aid interpretation of SAR data \n",
    "based upon a physical understanding of sensing principles and the interaction of \n",
    "microwaves with natural objects.\n",
    "\n",
    "| Concepts | Importance | Notes |\n",
    "|---|---|---|\n",
    "| [Intro to xarray](https://foundations.projectpythia.org/core/xarray/xarray-intro.html) | Necessary | |\n",
    "| [Dask Arrays](https://foundations.projectpythia.org/core/xarray/dask-arrays-xarray.html)| Necessary| |\n",
    "| [Intake](https://projectpythia.org/intake-cookbook/README.html)|Helpful| |\n",
    "| [Matplotlib](https://foundations.projectpythia.org/core/matplotlib.html)|Helpful|Ploting in Python|\n",
    "| [Documentation hvPlot](https://hvplot.holoviz.org/)|Helpful|Interactive plotting|\n",
    "| [Documentation odc-stac](https://odc-stac.readthedocs.io/en/latest/)|Helpful|Data access|\n",
    "\n",
    "- **Time to learn**: 90 min\n",
    "\n",
    ":::{note}\n",
    "These notebooks contain interactive elements. The full interactive elements can \n",
    "only be viewed on Binder by clicking on the Binder badge or 🚀 button.\n",
    ":::\n"
   ]
  }
 ],
 "metadata": {
  "kernelspec": {
   "display_name": "Python 3 (ipykernel)",
   "language": "python",
   "name": "python3",
   "path": "/opt/hostedtoolcache/Python/3.11.12/x64/share/jupyter/kernels/python3"
  },
  "language_info": {
   "codemirror_mode": {
    "name": "ipython",
    "version": 3
   },
   "file_extension": ".py",
   "mimetype": "text/x-python",
   "name": "python",
   "nbconvert_exporter": "python",
   "pygments_lexer": "ipython3",
   "version": "3.11.12"
  }
 },
 "nbformat": 4,
 "nbformat_minor": 5
}
